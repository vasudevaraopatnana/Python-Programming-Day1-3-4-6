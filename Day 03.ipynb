{
 "cells": [
  {
   "cell_type": "code",
   "execution_count": 1,
   "metadata": {},
   "outputs": [
    {
     "data": {
      "text/plain": [
       "'nohtyP'"
      ]
     },
     "execution_count": 1,
     "metadata": {},
     "output_type": "execute_result"
    }
   ],
   "source": [
    "# reverse the string\n",
    "def reversestr(s):\n",
    "  return s[-1::-1]\n",
    "reversestr('Python')"
   ]
  },
  {
   "cell_type": "code",
   "execution_count": 14,
   "metadata": {},
   "outputs": [
    {
     "name": "stdout",
     "output_type": "stream",
     "text": [
      "P T "
     ]
    }
   ],
   "source": [
    "#Function to Print the upper case characters\n",
    "#Example : Python --P T\n",
    "# ASCII \n",
    "# A -Z : 65 - 90\n",
    "# a -z : 97 - 122\n",
    "#0 - 9: 48 - 57\n",
    "# space : 32\n",
    "def printupper(s):\n",
    "    for i in range(len(s)):\n",
    "        if ord(s[i])>=65 and ord(s[i])<=90:\n",
    "            print(s[i],end=\" \")\n",
    "    return\n",
    "printupper('PyhTon') # P T"
   ]
  },
  {
   "cell_type": "code",
   "execution_count": 7,
   "metadata": {},
   "outputs": [
    {
     "data": {
      "text/plain": [
       "'Samecount'"
      ]
     },
     "execution_count": 7,
     "metadata": {},
     "output_type": "execute_result"
    }
   ],
   "source": [
    "#Function to return the output as \"Samecount\" or \"Programming\"\n",
    "def function(t):\n",
    "    c1=0\n",
    "    c2=0\n",
    "    for i in range(len(t)):\n",
    "        if ord(t[i])>=65 and ord(t[i])<=90: #it gives ascii values\n",
    "            c1+=1 # cntupper =cnt +1\n",
    "        elif ord(t[i])>=97 and ord(t[i])<=122:\n",
    "            c2+=1 # cntlower =cnt +1\n",
    "            if c1==c2:\n",
    "                return \"Samecount\"\n",
    "            return\"Programming\"\n",
    "function('PyThoN')"
   ]
  },
  {
   "cell_type": "code",
   "execution_count": 7,
   "metadata": {},
   "outputs": [
    {
     "name": "stdout",
     "output_type": "stream",
     "text": [
      "1 2 3 6 7 8 "
     ]
    }
   ],
   "source": [
    "# Function to Extract The digits of the given string\n",
    "# Example #1:\n",
    "# Input :Appli18cation89\n",
    "# Output :1 8 8 9\n",
    "def app(t):\n",
    "    for i in range(len(t)):\n",
    "        if ord(t[i])>=48 and ord(t[i])<=57:\n",
    "            print(t[i],end=' ')\n",
    "        else:\n",
    "            continue\n",
    "app(\"sari123gama678\")"
   ]
  },
  {
   "cell_type": "code",
   "execution_count": 2,
   "metadata": {},
   "outputs": [
    {
     "name": "stdout",
     "output_type": "stream",
     "text": [
      "1889dxwdhwdh\n"
     ]
    },
    {
     "data": {
      "text/plain": [
       "26"
      ]
     },
     "execution_count": 2,
     "metadata": {},
     "output_type": "execute_result"
    }
   ],
   "source": [
    "def apaa(t):\n",
    "    s=0\n",
    "    for i in range(len(t)):\n",
    "        if ord(t[i])>=48 and ord(t[i])<=57:\n",
    "            s+=int(t[i])\n",
    "    return s\n",
    "t=input()\n",
    "apaa(t)"
   ]
  },
  {
   "cell_type": "code",
   "execution_count": null,
   "metadata": {},
   "outputs": [],
   "source": [
    "#1\n",
    "# i/p-Learn Python Strings\n",
    "# i/p-Learn Python Strings\n"
   ]
  },
  {
   "cell_type": "code",
   "execution_count": 9,
   "metadata": {},
   "outputs": [
    {
     "name": "stdout",
     "output_type": "stream",
     "text": [
      "PYTHON"
     ]
    }
   ],
   "source": [
    "def part(y):\n",
    "    cntspace=0\n",
    "    for i in range(len(y)):\n",
    "        if ord(y[i])==32:\n",
    "            cntspace =cntspace+1\n",
    "        if cntspace==1:\n",
    "            if ord(y[i])>=65 and ord(y[i])<=90:\n",
    "                print(y[i],end='')\n",
    "            elif ord(y[i])>=97 and ord(y[i])<=122:\n",
    "                print(chr(ord(y[i])-32),end='')\n",
    "        if cntspace==2:\n",
    "            break\n",
    "    return\n",
    "part('Learn Python Strings')# PYTHON"
   ]
  },
  {
   "cell_type": "markdown",
   "metadata": {},
   "source": [
    "### List\n",
    "- One of the Data Structure in Python\n",
    "- Data Structure means to store, sort and Search Options\n",
    "- It's one Common Data Structure in Python , the Python,the items of list seperated by common and \n",
    "  it has been enclosed in square brackets[]\n",
    "  - Example\n",
    "     - list 1=[1,2,3,4,5]\n",
    "     - list 2 =[\"Gitam\",1,3,3.5,\"Vizag\"]"
   ]
  },
  {
   "cell_type": "code",
   "execution_count": 11,
   "metadata": {},
   "outputs": [
    {
     "name": "stdout",
     "output_type": "stream",
     "text": [
      "[1, 8, 6, 13, 1]\n",
      "1\n",
      "8\n",
      "1\n",
      "13\n",
      "[6, 13, 1]\n",
      "[1, 6, 1]\n",
      "[8, 13]\n"
     ]
    }
   ],
   "source": [
    "list=[1,8,6,13,1]\n",
    "print(list) # prints the all the list items\n",
    "print(list[0])# Access the first item of the list\n",
    "print(list[1])# Access the second item of the list\n",
    "print(list[-1])# Access the last item of the list\n",
    "print(list[-2])# Access the second last item of the list\n",
    "print(list[2:])\n",
    "print(list[::-2])\n",
    "print(list[1::2])"
   ]
  },
  {
   "cell_type": "code",
   "execution_count": 18,
   "metadata": {},
   "outputs": [
    {
     "name": "stdout",
     "output_type": "stream",
     "text": [
      "['Gitam', 1998, 2000, 2018, 2019, 'Vizag']\n",
      "['Gitam', 1363, 2000, 2018, 2019, 'Vizag']\n",
      "['Gitam', 1363, 2018, 2019, 'Vizag']\n"
     ]
    }
   ],
   "source": [
    "li=[\"Gitam\",1998,2000,2018,2019,\"Vizag\"]\n",
    "print(li)\n",
    "li[1]=1363\n",
    "print(li)\n",
    "del li[2]\n",
    "print(li)"
   ]
  },
  {
   "cell_type": "code",
   "execution_count": 21,
   "metadata": {},
   "outputs": [
    {
     "name": "stdout",
     "output_type": "stream",
     "text": [
      "['Gitam', 1363, 2018, 2019, 'Vizag']\n"
     ]
    }
   ],
   "source": [
    "print(li)"
   ]
  },
  {
   "cell_type": "code",
   "execution_count": 26,
   "metadata": {},
   "outputs": [
    {
     "name": "stdout",
     "output_type": "stream",
     "text": [
      "5\n",
      "True\n",
      "False\n",
      "12345\n",
      "1 2 3 4 5 "
     ]
    }
   ],
   "source": [
    "#Basic list operations\n",
    "li=[1,2,3,4,5]\n",
    "print(len(li))\n",
    "print(4 in li)\n",
    "print(10 in li)\n",
    "for i in range(len(li)):\n",
    "    print(li[i],end='')\n",
    "print()\n",
    "#2 way to print list\n",
    "for i in li:\n",
    "    print(i,end=' ')"
   ]
  },
  {
   "cell_type": "code",
   "execution_count": 30,
   "metadata": {},
   "outputs": [
    {
     "name": "stdout",
     "output_type": "stream",
     "text": [
      "30\n",
      "1\n",
      "56\n",
      "14\n"
     ]
    }
   ],
   "source": [
    "# Basic list functions\n",
    "li =[1,6,19,30]\n",
    "print(max(li))# Max number of the list\n",
    "print(min(li))# Min number of the list\n",
    "print(sum(li))# Sum number of the list\n",
    "print(sum(li)//len(li))# Avg number of the list"
   ]
  },
  {
   "cell_type": "code",
   "execution_count": 33,
   "metadata": {},
   "outputs": [
    {
     "data": {
      "text/plain": [
       "2"
      ]
     },
     "execution_count": 33,
     "metadata": {},
     "output_type": "execute_result"
    }
   ],
   "source": [
    "#Methods of list \n",
    "li=[1,9,16,10]\n",
    "li\n",
    "li.append(20)#Add at the list\n",
    "li.insert(2,56)#Add at the end of theSpecific index\n",
    "li.count(9)#returns the value how many objects repeated\n",
    "li.index(56)#returns the value at the index "
   ]
  },
  {
   "cell_type": "code",
   "execution_count": 44,
   "metadata": {},
   "outputs": [
    {
     "data": {
      "text/plain": [
       "[6, 52, 64]"
      ]
     },
     "execution_count": 44,
     "metadata": {},
     "output_type": "execute_result"
    }
   ],
   "source": [
    "#Method of list object\n",
    "li=[6,52,16,93,64]\n",
    "li.sort()#Sorts the index in ascending order\n",
    "li.pop ()# Last index value\n",
    "li.pop(1)\n",
    "li"
   ]
  },
  {
   "cell_type": "code",
   "execution_count": null,
   "metadata": {},
   "outputs": [],
   "source": []
  },
  {
   "cell_type": "code",
   "execution_count": 49,
   "metadata": {},
   "outputs": [
    {
     "name": "stdout",
     "output_type": "stream",
     "text": [
      "45\n",
      "22\n"
     ]
    }
   ],
   "source": [
    "#Function To return the large number from the list\n",
    "li=[19,1,25,6,9,45,22]\n",
    "def large(li):\n",
    "    li.sort()\n",
    "    return li[-1]\n",
    "def genericlarge(li,n):\n",
    "    li.sort()\n",
    "    return li[-n]\n",
    "print(large(li))\n",
    "print(genericlarge(li,3))"
   ]
  },
  {
   "cell_type": "code",
   "execution_count": 53,
   "metadata": {},
   "outputs": [
    {
     "name": "stdout",
     "output_type": "stream",
     "text": [
      "1\n",
      "28\n"
     ]
    }
   ],
   "source": [
    "#Function to find least and generic least\n",
    "li=[1,93,35,8,13,63,28]\n",
    "def small(li):\n",
    "    li.sort()\n",
    "    return li[0]\n",
    "def genericsmall(li,n):\n",
    "    li.sort()\n",
    "    return li[n-1]\n",
    "print(small(li))\n",
    "print(genericsmall(li,4))"
   ]
  },
  {
   "cell_type": "markdown",
   "metadata": {},
   "source": [
    "### File Handling in python\n",
    "- File -Document which contains some  information and resides on pemenant devices\n",
    "- Different types of file-- .txt,.pdf,.doc,.ppf and etc..\n",
    "- input --Keyboard\n",
    "- output -File system"
   ]
  },
  {
   "cell_type": "code",
   "execution_count": 9,
   "metadata": {},
   "outputs": [
    {
     "name": "stdout",
     "output_type": "stream",
     "text": [
      "File is successfully created and data has inserted\n"
     ]
    }
   ],
   "source": [
    "# Function to create File and write some data to the file\n",
    "# Mode -- w(it creates the file and wriyte to the same data)\n",
    "def createfile(filename):\n",
    "    f = open(filename,'w')\n",
    "    for i in range(10):\n",
    "        f.write('This is %d line \\n'% i)\n",
    "    print('File is successfully created and data has inserted')\n",
    "    return\n",
    "createfile('datafile.txt')"
   ]
  },
  {
   "cell_type": "code",
   "execution_count": 10,
   "metadata": {},
   "outputs": [
    {
     "data": {
      "text/plain": [
       "'C:\\\\Users\\\\P.Vasu Deva Rao\\\\Desktop\\\\problem solving and programming'"
      ]
     },
     "execution_count": 10,
     "metadata": {},
     "output_type": "execute_result"
    }
   ],
   "source": [
    "pwd"
   ]
  },
  {
   "cell_type": "code",
   "execution_count": 21,
   "metadata": {},
   "outputs": [
    {
     "name": "stdout",
     "output_type": "stream",
     "text": [
      "Completed successfully\n"
     ]
    }
   ],
   "source": [
    "def createfile(filename):\n",
    "    f = open(filename,'a')\n",
    "    f.write('Gitam vizag Python Training\\n')\n",
    "    f.write('Python Training\\n')\n",
    "    print('Completed successfully')\n",
    "    return\n",
    "createfile('datafile.txt')"
   ]
  },
  {
   "cell_type": "code",
   "execution_count": 23,
   "metadata": {},
   "outputs": [
    {
     "data": {
      "text/plain": [
       "'C:\\\\Users\\\\P.Vasu Deva Rao\\\\Desktop\\\\problem solving and programming'"
      ]
     },
     "execution_count": 23,
     "metadata": {},
     "output_type": "execute_result"
    }
   ],
   "source": [
    "pwd"
   ]
  },
  {
   "cell_type": "code",
   "execution_count": 22,
   "metadata": {},
   "outputs": [
    {
     "name": "stdout",
     "output_type": "stream",
     "text": [
      "Completed successfully\n"
     ]
    }
   ],
   "source": [
    "def appendmode(filename):\n",
    "    f = open(filename,'a')\n",
    "    f.write('Gitam vizag Python Training\\n')\n",
    "    f.write('Python Training')\n",
    "    print('Program Completed successfully')\n",
    "    return\n",
    "createfile('datafile.txt')"
   ]
  },
  {
   "cell_type": "code",
   "execution_count": 24,
   "metadata": {},
   "outputs": [
    {
     "data": {
      "text/plain": [
       "'C:\\\\Users\\\\P.Vasu Deva Rao\\\\Desktop\\\\problem solving and programming'"
      ]
     },
     "execution_count": 24,
     "metadata": {},
     "output_type": "execute_result"
    }
   ],
   "source": [
    "pwd"
   ]
  },
  {
   "cell_type": "code",
   "execution_count": 25,
   "metadata": {},
   "outputs": [
    {
     "name": "stdout",
     "output_type": "stream",
     "text": [
      "Gitam vizag Python TrainingGitam vizag Python TrainingGitam vizag Python TrainingGitam vizag Python TrainingGitam vizag Python TrainingGitam vizag Python TrainingGitam vizag Python TrainingGitam vizag Python TrainingGitam vizag Python TrainingGitam vizag Python TrainingGitam vizag Python Training\n",
      "Python TrainingGitam vizag Python Training\n",
      "Python TrainingGitam vizag Python Training\n",
      "Python Training\n",
      "Gitam vizag Python Training\n",
      "Python Training\n",
      "\n"
     ]
    }
   ],
   "source": [
    "# Function to read the file \n",
    "def readfileData(filename):\n",
    "    f=open(filename,'r')\n",
    "    if f.mode=='r':\n",
    "        a=f.read()\n",
    "        print(a)\n",
    "    f.close()\n",
    "    return\n",
    "readfileData('datafile.txt')"
   ]
  },
  {
   "cell_type": "code",
   "execution_count": 29,
   "metadata": {},
   "outputs": [
    {
     "name": "stdout",
     "output_type": "stream",
     "text": [
      "['Programming', 'Python']\n"
     ]
    }
   ],
   "source": [
    "#Analysis on the file --word count,char count,Digit count\n",
    "s1=\"Programming Python\"\n",
    "print (s1.split())"
   ]
  },
  {
   "cell_type": "code",
   "execution_count": 32,
   "metadata": {},
   "outputs": [
    {
     "data": {
      "text/plain": [
       "52"
      ]
     },
     "execution_count": 32,
     "metadata": {},
     "output_type": "execute_result"
    }
   ],
   "source": [
    "#Word Count-- input file\n",
    "def wordCount(filename):\n",
    "    with open(filename,'r')as f:\n",
    "        if f.mode =='r':\n",
    "            a=f.read()\n",
    "            li=a.split()# divides the words by using white space\n",
    "    return len(li)\n",
    "wordCount('datafile.txt')"
   ]
  },
  {
   "cell_type": "code",
   "execution_count": 38,
   "metadata": {},
   "outputs": [
    {
     "data": {
      "text/plain": [
       "0"
      ]
     },
     "execution_count": 38,
     "metadata": {},
     "output_type": "execute_result"
    }
   ],
   "source": [
    "#Specific Word count form the file\n",
    "# Example #1:\n",
    "# Iput -- This\n",
    "# output -- 10\n",
    "def wordCount(filename,word):\n",
    "    with open(filename,'r') as f:\n",
    "        if f.mode =='r':\n",
    "            a=f.read()\n",
    "            li=a.split()\n",
    "    return li.count(word)\n",
    "wordCount('datafile.txt','this')"
   ]
  },
  {
   "cell_type": "code",
   "execution_count": 40,
   "metadata": {},
   "outputs": [
    {
     "name": "stdout",
     "output_type": "stream",
     "text": [
      "['P', 'y', 't', 'h', 'o', 'n', ' ', 'P', 'r', 'o', 'g', 'r', 'a', 'm', 'm', 'i', 'n', 'g']\n"
     ]
    }
   ],
   "source": [
    "s=\"Python Programming\"\n",
    "li=list(s)\n",
    "print(li)"
   ]
  },
  {
   "cell_type": "code",
   "execution_count": 39,
   "metadata": {},
   "outputs": [
    {
     "data": {
      "text/plain": [
       "7"
      ]
     },
     "execution_count": 39,
     "metadata": {},
     "output_type": "execute_result"
    }
   ],
   "source": [
    "#Find the no of the lines or rows in the given input \n",
    "def findlinecount(filename):\n",
    "    with open(filename,'r') as f:\n",
    "        if f.mode=='r':\n",
    "            a=f.read()\n",
    "            li=a.split('\\n')\n",
    "    return len(li)\n",
    "findlinecount('datafile.txt')"
   ]
  },
  {
   "cell_type": "code",
   "execution_count": 9,
   "metadata": {},
   "outputs": [
    {
     "ename": "SyntaxError",
     "evalue": "invalid syntax (<ipython-input-9-b158349b8659>, line 17)",
     "output_type": "error",
     "traceback": [
      "\u001b[1;36m  File \u001b[1;32m\"<ipython-input-9-b158349b8659>\"\u001b[1;36m, line \u001b[1;32m17\u001b[0m\n\u001b[1;33m    return output\u001b[0m\n\u001b[1;37m         ^\u001b[0m\n\u001b[1;31mSyntaxError\u001b[0m\u001b[1;31m:\u001b[0m invalid syntax\n"
     ]
    }
   ],
   "source": [
    "def casecount(filename):\n",
    "    cntup=0\n",
    "    cntlwr=0\n",
    "    cntdigit=0\n",
    "    with open(filename,'r') as f:\n",
    "        if f.mode=='r':\n",
    "            a=f.read()\n",
    "            li=list(a)\n",
    "    for i in range(len(li)):\n",
    "        if ord(li[i])>=65 and ord(li[i])<=90:\n",
    "            cntup+=1\n",
    "        elif ord(li[i])>=97 and ord(li[i])<=122:\n",
    "            cntlwr+=1\n",
    "        elif ord(li[i])>=48 and ord(li[i])<=57:\n",
    "            cntdigit+=1\n",
    "output=('Upper Case:{0} Lower Case : {1} Digit : {2}'.format(cntup,cntlwr,cntdigit)\n",
    "return output\n",
    "findlinecount('datafile.txt')"
   ]
  },
  {
   "cell_type": "markdown",
   "metadata": {},
   "source": [
    "1 Example 1:\n",
    "Input    :orange \n",
    "Output : puboif\n",
    "Reason: Print the next consonent to the vowel and Print the vowel to the next consonent\n",
    "2 Example 2:\n",
    "Input: PythonProgrMMINg   \n",
    "Output: pYTHONpROGRmminG"
   ]
  },
  {
   "cell_type": "code",
   "execution_count": null,
   "metadata": {},
   "outputs": [],
   "source": [
    "#p m i n\n",
    "#A -Z : 65 - 90\n",
    "# a -z : 97 - 122\n",
    "#0 - 9: 48 - 57\n",
    "# space : 32\n",
    "def output()\n",
    "\n"
   ]
  }
 ],
 "metadata": {
  "kernelspec": {
   "display_name": "Python 3",
   "language": "python",
   "name": "python3"
  },
  "language_info": {
   "codemirror_mode": {
    "name": "ipython",
    "version": 3
   },
   "file_extension": ".py",
   "mimetype": "text/x-python",
   "name": "python",
   "nbconvert_exporter": "python",
   "pygments_lexer": "ipython3",
   "version": "3.7.3"
  }
 },
 "nbformat": 4,
 "nbformat_minor": 2
}
