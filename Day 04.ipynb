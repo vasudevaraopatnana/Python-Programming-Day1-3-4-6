{
 "cells": [
  {
   "cell_type": "markdown",
   "metadata": {},
   "source": [
    "### String boolean Function\n",
    "- True or False\n",
    "- islower() --true if the string have all characters lower case\n",
    "- isupper() --true if the string have all characters Upper case\n",
    "- istitle() --first letter of each word is upper letter\n",
    "- isnumeric() --True if the string is numeric\n",
    "- isalpha() --True if the string only alphabets\n",
    "- isspace() --True if the string is space"
   ]
  },
  {
   "cell_type": "code",
   "execution_count": 3,
   "metadata": {},
   "outputs": [
    {
     "name": "stdout",
     "output_type": "stream",
     "text": [
      "False\n",
      "False\n"
     ]
    }
   ],
   "source": [
    "s1=\"Python\"\n",
    "print(s1.islower())\n",
    "print(s1.isupper())"
   ]
  },
  {
   "cell_type": "code",
   "execution_count": 8,
   "metadata": {},
   "outputs": [
    {
     "name": "stdout",
     "output_type": "stream",
     "text": [
      "False\n"
     ]
    }
   ],
   "source": [
    "s1=\"Python programmaing\"\n",
    "print(s1.istitle())"
   ]
  },
  {
   "cell_type": "code",
   "execution_count": 8,
   "metadata": {},
   "outputs": [
    {
     "name": "stdout",
     "output_type": "stream",
     "text": [
      "True\n",
      "False\n"
     ]
    }
   ],
   "source": [
    "s1=\"1234569\"\n",
    "s2=\"Ram123\"\n",
    "print(s1.isnumeric())\n",
    "print(s2.isnumeric())"
   ]
  },
  {
   "cell_type": "code",
   "execution_count": 9,
   "metadata": {},
   "outputs": [
    {
     "name": "stdout",
     "output_type": "stream",
     "text": [
      "False\n",
      "True\n"
     ]
    }
   ],
   "source": [
    "s2=\"Python\"\n",
    "s1=\"roi2739\"\n",
    "print(s1.isalpha())\n",
    "print(s2.isalpha())"
   ]
  },
  {
   "cell_type": "code",
   "execution_count": 9,
   "metadata": {},
   "outputs": [
    {
     "name": "stdout",
     "output_type": "stream",
     "text": [
      "False\n",
      "False\n"
     ]
    }
   ],
   "source": [
    "s2=\"Python\"\n",
    "s1=\"r o i 1 6 9\"\n",
    "print(s1.isspace())\n",
    "print(s2.isspace())"
   ]
  },
  {
   "cell_type": "markdown",
   "metadata": {},
   "source": [
    "### String methods\n",
    "- split() --returns the list of the string seperated by whitespace\n",
    "- rplace() --replaces with the other word\n",
    "- join() --Concatanation of the two strings"
   ]
  },
  {
   "cell_type": "code",
   "execution_count": 17,
   "metadata": {},
   "outputs": [
    {
     "name": "stdout",
     "output_type": "stream",
     "text": [
      "['Python', 'Training', 'Gitam', 'vizag']\n",
      "['Python Tra', 'n', 'ng G', 'tam v', 'zag']\n"
     ]
    }
   ],
   "source": [
    "s1='Python Training Gitam vizag'\n",
    "li=s1.split()\n",
    "print(li)\n",
    "s1='Python Training Gitam vizag'\n",
    "li=s1.split('i')\n",
    "print(li)"
   ]
  },
  {
   "cell_type": "code",
   "execution_count": 12,
   "metadata": {},
   "outputs": [
    {
     "name": "stdout",
     "output_type": "stream",
     "text": [
      "_ython Training Gitam vizag\n"
     ]
    }
   ],
   "source": [
    "s1='Python Training Gitam vizag'\n",
    "print(s1.replace('','_'))"
   ]
  },
  {
   "cell_type": "code",
   "execution_count": 26,
   "metadata": {},
   "outputs": [
    {
     "name": "stdout",
     "output_type": "stream",
     "text": [
      "vchanuichanuzchanuachanug\n"
     ]
    }
   ],
   "source": [
    "s1='Python Training Gitam vizag'\n",
    "print(\"chanu\".join('vizag'))"
   ]
  },
  {
   "cell_type": "markdown",
   "metadata": {},
   "source": [
    "### String formattnig\n",
    "- Classic version\n",
    "- Current version python"
   ]
  },
  {
   "cell_type": "code",
   "execution_count": 34,
   "metadata": {},
   "outputs": [
    {
     "name": "stdout",
     "output_type": "stream",
     "text": [
      " Python Programming \n"
     ]
    }
   ],
   "source": [
    "# Classic version of (C or c++)\n",
    "li =[\"Python\",\"Programming\"]\n",
    "print(' %s %s ' % (li[0],li[1]))"
   ]
  },
  {
   "cell_type": "code",
   "execution_count": 14,
   "metadata": {},
   "outputs": [
    {
     "name": "stdout",
     "output_type": "stream",
     "text": [
      " 1 2 3 4\n"
     ]
    }
   ],
   "source": [
    "li=[1,2,3,4]\n",
    "print(' %d %d %d %d' % (li[0],li[1],li[2],li[3]))"
   ]
  },
  {
   "cell_type": "code",
   "execution_count": 37,
   "metadata": {},
   "outputs": [
    {
     "name": "stdout",
     "output_type": "stream",
     "text": [
      "List itam 0 :Python \n",
      "List item 1 :Programming\n"
     ]
    }
   ],
   "source": [
    "# .Format\n",
    "li =[\"Python\",\"Programming\"]\n",
    "print(\"List item 0 :{0} \\nList item 1 :{1}\".format(li[0],li[1]))"
   ]
  },
  {
   "cell_type": "code",
   "execution_count": 41,
   "metadata": {},
   "outputs": [
    {
     "name": "stdout",
     "output_type": "stream",
     "text": [
      "4 3 2 1\n"
     ]
    }
   ],
   "source": [
    "li=[4,3,2,1]\n",
    "print( \"{0} {1} {2} {3}\".format(li[0],li[1],li[2],li[3]))"
   ]
  },
  {
   "cell_type": "markdown",
   "metadata": {},
   "source": [
    "### Dictionaries\n",
    "- It works on concepts of unique data\n",
    "- Key value is hte unique identifier a value\n",
    "- Each key is seperated from colon(:)\n",
    "- Each key and value is seperated by comma(,)\n",
    "- Dictionaries are enclosed with Curly brackets({})"
   ]
  },
  {
   "cell_type": "code",
   "execution_count": 43,
   "metadata": {},
   "outputs": [
    {
     "name": "stdout",
     "output_type": "stream",
     "text": [
      "{'Name': 'vasu', 'EmailID': 'patnanavasudevarao2276@gmail.com', 'Rollno': '26'}\n"
     ]
    }
   ],
   "source": [
    "d1 ={\"Name\":\"vasu\",\"EmailID\":\"patnanavasudevarao2276@gmail.com\",\"Rollno\":\"26\"}\n",
    "print(d1)"
   ]
  },
  {
   "cell_type": "code",
   "execution_count": 45,
   "metadata": {},
   "outputs": [
    {
     "data": {
      "text/plain": [
       "'patnanavasudevarao2276@gmail.com'"
      ]
     },
     "execution_count": 45,
     "metadata": {},
     "output_type": "execute_result"
    }
   ],
   "source": [
    "d1[\"EmailID\"]#Access the specific key value"
   ]
  },
  {
   "cell_type": "code",
   "execution_count": 50,
   "metadata": {},
   "outputs": [
    {
     "data": {
      "text/plain": [
       "'BadBoy@gmail.com'"
      ]
     },
     "execution_count": 50,
     "metadata": {},
     "output_type": "execute_result"
    }
   ],
   "source": [
    "d1[\"EmailID\"]=\"BadBoy@gmail.com\"#Update the value using key\n",
    "d1[\"EmailID\"]"
   ]
  },
  {
   "cell_type": "code",
   "execution_count": 53,
   "metadata": {},
   "outputs": [
    {
     "data": {
      "text/plain": [
       "dict_keys(['Name', 'EmailID', 'Rollno'])"
      ]
     },
     "execution_count": 53,
     "metadata": {},
     "output_type": "execute_result"
    }
   ],
   "source": [
    "d1.keys()# Returns the all keys of the dictionaries objects"
   ]
  },
  {
   "cell_type": "code",
   "execution_count": 54,
   "metadata": {},
   "outputs": [
    {
     "data": {
      "text/plain": [
       "dict_values(['vasu', 'BadBoy@gmail.com', '26'])"
      ]
     },
     "execution_count": 54,
     "metadata": {},
     "output_type": "execute_result"
    }
   ],
   "source": [
    "d1.values()# Returns the all values of the dictionaries objects"
   ]
  },
  {
   "cell_type": "code",
   "execution_count": 55,
   "metadata": {},
   "outputs": [],
   "source": [
    "del d1[\"Rollno\"]"
   ]
  },
  {
   "cell_type": "code",
   "execution_count": 56,
   "metadata": {},
   "outputs": [
    {
     "data": {
      "text/plain": [
       "{'Name': 'vasu', 'EmailID': 'BadBoy@gmail.com'}"
      ]
     },
     "execution_count": 56,
     "metadata": {},
     "output_type": "execute_result"
    }
   ],
   "source": [
    "d1"
   ]
  },
  {
   "cell_type": "code",
   "execution_count": 57,
   "metadata": {},
   "outputs": [],
   "source": [
    "del d1"
   ]
  },
  {
   "cell_type": "code",
   "execution_count": 58,
   "metadata": {},
   "outputs": [
    {
     "ename": "NameError",
     "evalue": "name 'd1' is not defined",
     "output_type": "error",
     "traceback": [
      "\u001b[1;31m---------------------------------------------------------------------------\u001b[0m",
      "\u001b[1;31mNameError\u001b[0m                                 Traceback (most recent call last)",
      "\u001b[1;32m<ipython-input-58-2d3a24957153>\u001b[0m in \u001b[0;36m<module>\u001b[1;34m\u001b[0m\n\u001b[1;32m----> 1\u001b[1;33m \u001b[0md1\u001b[0m\u001b[1;33m\u001b[0m\u001b[1;33m\u001b[0m\u001b[0m\n\u001b[0m",
      "\u001b[1;31mNameError\u001b[0m: name 'd1' is not defined"
     ]
    }
   ],
   "source": [
    "d1"
   ]
  },
  {
   "cell_type": "markdown",
   "metadata": {},
   "source": [
    "### Contact appilications\n",
    "- Add Contact Details\n",
    "- Search the contact details\n",
    "- List all the contacts (Merge/import)\n",
    "    - Name 1:Value\n",
    "    - Name 2:Value"
   ]
  },
  {
   "cell_type": "code",
   "execution_count": 62,
   "metadata": {},
   "outputs": [
    {
     "name": "stdout",
     "output_type": "stream",
     "text": [
      "Contact details are added successfully\n",
      "Contact details are added successfully\n",
      "Contact details are added successfully\n",
      "Name is already exists\n"
     ]
    }
   ],
   "source": [
    "contacts={}#Empty Dic objects\n",
    "# create a function to add contact details\n",
    "def addcontact(name,phone):\n",
    "    if name not in contacts:#check that name is exists or not\n",
    "        contacts[name]=phone\n",
    "        print('Contact details are added successfully')\n",
    "    else:\n",
    "        print(\"Name is already exists\")\n",
    "    return\n",
    "addcontact('chanu','9502646972')\n",
    "addcontact('bappa','9618709015')\n",
    "addcontact('ram','8593762158')\n",
    "addcontact('chanu','9502646972')"
   ]
  },
  {
   "cell_type": "code",
   "execution_count": 69,
   "metadata": {},
   "outputs": [
    {
     "name": "stdout",
     "output_type": "stream",
     "text": [
      "chanu : 9502646972\n",
      "bappa : 9618709015\n",
      "raju does not present \n",
      "Ajay does not present \n"
     ]
    }
   ],
   "source": [
    "def searchcontact(name):\n",
    "    if name in contacts:\n",
    "        print(name,\":\",contacts[name])\n",
    "    else:\n",
    "        print('{0} does not present ' .format(name))\n",
    "        #print('%s does not present' contacts[name])\n",
    "    return\n",
    "searchcontact('chanu')\n",
    "searchcontact('bappa')\n",
    "searchcontact('raju')\n",
    "searchcontact('Ajay')"
   ]
  },
  {
   "cell_type": "code",
   "execution_count": 72,
   "metadata": {},
   "outputs": [
    {
     "name": "stdout",
     "output_type": "stream",
     "text": [
      "3 Contacts are ready\n"
     ]
    }
   ],
   "source": [
    "# Import new contact details\n",
    "# Merge the previous details with the new details\n",
    "def importcontact(newcontact):\n",
    "    contacts.update(newcontact)\n",
    "    print(len(newcontact.keys()),'Contacts are ready')\n",
    "    return\n",
    "newcontact={'chanu':9632569652,'ravi':8536127634,'krishna':632569655}\n",
    "importcontact(newcontact)"
   ]
  },
  {
   "cell_type": "code",
   "execution_count": 73,
   "metadata": {},
   "outputs": [
    {
     "data": {
      "text/plain": [
       "{'chanu': 9632569652,\n",
       " 'bappa': '9618709015',\n",
       " 'ram': '8593762158',\n",
       " 'ravi': 8536127634,\n",
       " 'krishna': 632569655}"
      ]
     },
     "execution_count": 73,
     "metadata": {},
     "output_type": "execute_result"
    }
   ],
   "source": [
    "contacts"
   ]
  },
  {
   "cell_type": "code",
   "execution_count": 77,
   "metadata": {},
   "outputs": [
    {
     "name": "stdout",
     "output_type": "stream",
     "text": [
      "ram Updated Successfully\n",
      "Rakul Not Exists\n"
     ]
    }
   ],
   "source": [
    "def modifycontact(name,phone):\n",
    "    if name in contacts:\n",
    "        contacts[name]=phone\n",
    "        print(name,'Updated Successfully')\n",
    "    else:\n",
    "        print(name,'Not Exists')\n",
    "    return\n",
    "modifycontact('ram',6932145783)\n",
    "modifycontact('Rakul',9321455783)"
   ]
  },
  {
   "cell_type": "code",
   "execution_count": null,
   "metadata": {},
   "outputs": [],
   "source": [
    "def deletecontact(name):\n",
    "    if name in contacts\""
   ]
  },
  {
   "cell_type": "markdown",
   "metadata": {},
   "source": [
    "### Tuples\n",
    "- Tuples are enclosed with parenthesis()\n",
    "### Differences between Tuples and lists\n",
    "- List are mutuble --can be changed /Modify\n",
    "    -Read and Write the data\n",
    "- Tuples are immutable -- can't be changed /Modified\n",
    "    -Read data only"
   ]
  },
  {
   "cell_type": "code",
   "execution_count": 1,
   "metadata": {},
   "outputs": [
    {
     "name": "stdout",
     "output_type": "stream",
     "text": [
      "(1, 2, 3, 4, 5)\n"
     ]
    }
   ],
   "source": [
    "t1=(1,2,3,4,5)\n",
    "print(t1)"
   ]
  },
  {
   "cell_type": "markdown",
   "metadata": {},
   "source": [
    "### Standard External Library\n",
    " - Regular Expressions\n",
    "     -To validate the Indian mobile number \n",
    "     -To validate the EmailID\n",
    "      -To validate the Username \n",
    "      -To validate the password\n",
    "  - Understand the regular expressions\n",
    "       - [0-9]- Any digit matching\n",
    "       - [a-z]- Any lower case matching\n",
    "       "
   ]
  },
  {
   "cell_type": "code",
   "execution_count": 15,
   "metadata": {},
   "outputs": [
    {
     "name": "stdout",
     "output_type": "stream",
     "text": [
      "True\n",
      "False\n"
     ]
    }
   ],
   "source": [
    "#Function to test 2 digit number as i/p\n",
    "#True --Input two digit number\n",
    "#False --Iput not a two digit number\n",
    "import re\n",
    "def twodigitmatching(n):\n",
    "    pattern='^[0-9]{2}$'\n",
    "    n=str(n)\n",
    "    if re.match(pattern,n):\n",
    "        return True\n",
    "    return False\n",
    "print(twodigitmatching(26))\n",
    "print(twodigitmatching(266))"
   ]
  },
  {
   "cell_type": "code",
   "execution_count": 7,
   "metadata": {},
   "outputs": [
    {
     "name": "stdout",
     "output_type": "stream",
     "text": [
      "False\n",
      "True\n",
      "False\n"
     ]
    }
   ],
   "source": [
    "#Regular expreesion for username\n",
    "#Username :-Should contain lower and upper characters in the expression\n",
    "#Length :-Min 5 and Max 12\n",
    "def validateusername(s):\n",
    "    pattern='^[a-zA-Z]{5,12}$'\n",
    "    if re.match(pattern,s):\n",
    "        return True\n",
    "    return False\n",
    "print(validateusername('vasu'))#False\n",
    "print(validateusername('vasudeva'))#True\n",
    "print(validateusername('GitamuniversityPythonProgram'))#False"
   ]
  },
  {
   "cell_type": "markdown",
   "metadata": {},
   "source": [
    "### Regular Expressions\n",
    "- Regular Expression For Roll number\n",
    "    -Example :1521A0501 #Valid\n",
    "    -Example :1621A0572 #invalid\n",
    "- Regular Expression for password\n",
    "    - Parametrs len min 6 max 10\n",
    "    - Accept lowe case,upper case"
   ]
  },
  {
   "cell_type": "markdown",
   "metadata": {},
   "source": [
    "### Regular  Expressions for Indian Mobile\n",
    "- 10 Digit Number\n",
    "    - First number start from[6-9]\n",
    "    - rest of 9 number is between [0-9]\n",
    "        Example :936515142 #true\n",
    "        Example :542512425 #false\n",
    "  - 11 Digit Number\n",
    "      - "
   ]
  },
  {
   "cell_type": "code",
   "execution_count": 14,
   "metadata": {},
   "outputs": [
    {
     "data": {
      "text/plain": [
       "True"
      ]
     },
     "execution_count": 14,
     "metadata": {},
     "output_type": "execute_result"
    }
   ],
   "source": [
    "import re\n",
    "def validateIndianPhone(n):\n",
    "    pattern='^[6-9][0-9]{9}$|^[0][6-9][0-9]{9}$|^[+][9][1][6-9][0-9]{9}$'\n",
    "    n=str(n)\n",
    "    if re.match(pattern,n):\n",
    "        return True\n",
    "    return False\n",
    "    return\n",
    "validateIndianPhone(9988774455)"
   ]
  },
  {
   "cell_type": "markdown",
   "metadata": {},
   "source": [
    "### validate the email\n",
    "- Example:Username@DomainName.extension\n",
    "- Example:dsps@gmail.com\n",
    "- Username:\n",
    "    - Len of the string will be[6-15]\n",
    "    - No Spl characters except Underscore(_)\n",
    "    - User should not began with underscore\n",
    "    - all characters set digits,lower case and upper case\n",
    "        - Example :Anil_1889\n",
    " - Domainname:\n",
    "     - Len of string will be [3-18]\n",
    "     - No Spl characters\n",
    "     - Characters  set will be Digits,Lower case and upper case\n",
    "     - example:gmail,hotmail,reddiff,outlook\n",
    " - extenctions\n",
    "     - len of the string will be [2-4]\n",
    "     - no spl characters allowed\n",
    "     - characters set will lower case charcters \n",
    "         -Example :com in au uk"
   ]
  },
  {
   "cell_type": "code",
   "execution_count": null,
   "metadata": {},
   "outputs": [],
   "source": [
    "# username   RE: [0-9a-zA-Z][0-9a-zA-Z_.]{5,14}\n",
    "# Domain Name RE: [a-z0-9]{3,18}\n",
    "# Extenction RE: [a-z]{2,4}\n",
    "# Email"
   ]
  },
  {
   "cell_type": "markdown",
   "metadata": {},
   "source": [
    "### Python Graphics\n"
   ]
  },
  {
   "cell_type": "markdown",
   "metadata": {},
   "source": [
    "### moduke and sub packages\n",
    "- packages"
   ]
  },
  {
   "cell_type": "code",
   "execution_count": 15,
   "metadata": {},
   "outputs": [
    {
     "data": {
      "text/plain": [
       "123"
      ]
     },
     "execution_count": 15,
     "metadata": {},
     "output_type": "execute_result"
    }
   ],
   "source": [
    "import math\n",
    "math.floor(123.659)"
   ]
  },
  {
   "cell_type": "code",
   "execution_count": 17,
   "metadata": {},
   "outputs": [
    {
     "name": "stdout",
     "output_type": "stream",
     "text": [
      "41 44 63 86 84 81 99 69 40 92 "
     ]
    }
   ],
   "source": [
    "import random\n",
    "def generaterandomnum(n,lb,ub):\n",
    "    for i in range(0,n):\n",
    "        print(random.randint(lb,ub),end=' ')\n",
    "    return \n",
    "generaterandomnum(10,0,100)"
   ]
  },
  {
   "cell_type": "code",
   "execution_count": null,
   "metadata": {},
   "outputs": [],
   "source": [
    "#create a simple game\n",
    "#try to generate 20 numbers\n",
    "#Input :Number\n",
    "#Present :congrats!!!\n",
    "#Not present : Try again\n",
    "from random import randint as rdint\n",
    "def generatenumber(n,lb,ub):\n",
    "    li=[]\n",
    "    for i in range(0,n):\n",
    "        "
   ]
  },
  {
   "cell_type": "code",
   "execution_count": null,
   "metadata": {},
   "outputs": [],
   "source": [
    "def check(n):"
   ]
  },
  {
   "cell_type": "code",
   "execution_count": null,
   "metadata": {},
   "outputs": [],
   "source": []
  },
  {
   "cell_type": "code",
   "execution_count": null,
   "metadata": {},
   "outputs": [],
   "source": []
  }
 ],
 "metadata": {
  "kernelspec": {
   "display_name": "Python 3",
   "language": "python",
   "name": "python3"
  },
  "language_info": {
   "codemirror_mode": {
    "name": "ipython",
    "version": 3
   },
   "file_extension": ".py",
   "mimetype": "text/x-python",
   "name": "python",
   "nbconvert_exporter": "python",
   "pygments_lexer": "ipython3",
   "version": "3.7.3"
  }
 },
 "nbformat": 4,
 "nbformat_minor": 2
}
